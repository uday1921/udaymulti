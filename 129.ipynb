{
 "cells": [
  {
   "cell_type": "markdown",
   "metadata": {},
   "source": [
    "# multithreading in python module\n",
    "\n",
    "a thread contains all this information in a THREAD CONTROL BLOCK(TCB)\n",
    "\n",
    "THREAD IDENTIFIER: UNIQUE ID IS ASSIGNED TO EVERY NEW THREAD\n",
    "\n",
    "PROGRAM COUNTER:: A REGISTER WHICH STORES THE ADDRESS OF THE INSTRUCTION CURRENTLY BEING EXECUTED BY THREAD\n",
    "\n",
    "SATCK POINTER:: POINTS TO THREAD'S TSACK IN THE PROCESS.STACK CONTAINS THE LOCAL VARIABLE UNDER THREEAD'S SCOPE\n",
    "\n",
    "THREAD'S REGISTER'S SET::\n",
    "\n",
    "PARENT PROCESS POINTEr::"
   ]
  },
  {
   "cell_type": "code",
   "execution_count": 2,
   "metadata": {},
   "outputs": [
    {
     "name": "stdout",
     "output_type": "stream",
     "text": [
      "square:1000\n",
      "cube:1000\n",
      "!done\n"
     ]
    },
    {
     "name": "stderr",
     "output_type": "stream",
     "text": [
      "'done' is not recognized as an internal or external command,\n",
      "operable program or batch file.\n"
     ]
    }
   ],
   "source": [
    "import threading\n",
    "def print_cube(num):\n",
    "    print('cube:{}'.format(num*num*num))\n",
    "def print_square(num):\n",
    "    print('square:{}'.format(num*num*num))\n",
    "if __name__ == '__main__':\n",
    "    t1 = threading.Thread(target = print_square, args = (10,)) #code line to create a thread t1\n",
    "    t2 = threading.Thread(target = print_cube, args = (10,))  #code line to create a thread t2\n",
    "    t1.start()  #code line to starrt a thread t1\n",
    "    t2.start()  #code line to start a thread t2\n",
    "    t1.join()\n",
    "    t2.join()\n",
    "    print('!done')\n",
    "\n",
    "square:1000\n",
    "cube:1000\n",
    "!done"
   ]
  },
  {
   "cell_type": "markdown",
   "metadata": {},
   "source": [
    "# \n",
    "\n",
    "In [26]:\n",
    "\n",
    "\n",
    "to import threading module\n",
    "\n",
    "to import threading module we do \"IMPORT THREADING\"\n",
    "\n",
    "TO CREATE A NEW THREAD\n",
    "\n",
    "TO CREATE A NEW THREAD WE CAN CREATE OBJECT OF tHREAD CALSS. IT TAKES THE TWO ARGUEMENTS\n",
    "\n",
    "TARGET :: the function to be executed by thread\n",
    "\n",
    "args :: the arguements to be passed to the targer function\n",
    "\n",
    "to start a thread\n",
    "In [ ]:\n",
    "to start a thread  we use start method of thread class\n",
    "\n",
    "t1.start()\n",
    "\n",
    "t2.start()\n",
    "\n",
    "once the thread is,started the current program also keep on executing in order to stop the execution of until a thread is complete, we use JION method\n",
    "\n",
    "t1.join()\n",
    "\n",
    "t2.join()\n",
    "\n",
    "TO GET THREAD ID\n",
    "\n",
    "TO GET THE THREAD ID WE USE THE METHOD CALLED os.getpid()\n",
    "\n",
    "we use threading.main_thread() :::: to get the main thread oibject\n",
    "\n",
    "threading.current_thread() :: to get the current thread object"
   ]
  },
  {
   "cell_type": "code",
   "execution_count": null,
   "metadata": {},
   "outputs": [],
   "source": []
  }
 ],
 "metadata": {
  "kernelspec": {
   "display_name": "Python 3",
   "language": "python",
   "name": "python3"
  },
  "language_info": {
   "codemirror_mode": {
    "name": "ipython",
    "version": 3
   },
   "file_extension": ".py",
   "mimetype": "text/x-python",
   "name": "python",
   "nbconvert_exporter": "python",
   "pygments_lexer": "ipython3",
   "version": "3.6.5"
  }
 },
 "nbformat": 4,
 "nbformat_minor": 2
}
